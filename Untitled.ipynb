{
 "cells": [
  {
   "cell_type": "markdown",
   "metadata": {},
   "source": [
    "## Multi Armed Bandit"
   ]
  },
  {
   "cell_type": "markdown",
   "metadata": {},
   "source": [
    "Combine exploration with exploitation"
   ]
  },
  {
   "cell_type": "markdown",
   "metadata": {},
   "source": [
    "Instead of an A/B test, where you run the test, then select the best alternative and run with it, **MAB** optimizes and drives more traffic to the best alternative *while* running the test, hence reducing costs (regret)"
   ]
  },
  {
   "cell_type": "markdown",
   "metadata": {},
   "source": [
    "<img src=\"images/MAB.png\" width=500px>"
   ]
  },
  {
   "cell_type": "markdown",
   "metadata": {},
   "source": [
    "### Upper Confidence Bound"
   ]
  },
  {
   "cell_type": "markdown",
   "metadata": {},
   "source": [
    "#### Steps:\n",
    "\n",
    "Ref: https://www.youtube.com/watch?v=TIlDzLZPyhY\n",
    "\n",
    "There are `K` arms\n",
    "\n",
    "`Q(j)` is the expected payoff (between 0 and 1)\n",
    "\n",
    "1. Play each arm atleast once.\n",
    "2. Repeatedly play the arm that maximizes $Q(j) + \\sqrt{\\frac{\\frac{3}{2}\\ln n}{n_j}}$  where $n_j$ is the number of times you have played arm J and $n$ is the total no. of times you have played.\n",
    "\n"
   ]
  },
  {
   "cell_type": "markdown",
   "metadata": {},
   "source": [
    "#### Steps:\n",
    "\n",
    "1. Assume a starting point for all bandits (distribution) empirically\n",
    "2. Assume a large confidence band\n",
    "3. Try each bandit a few times (atleast once)\n",
    "4. Pick the bandit with the highest confidence band (if multiple same, pick randomly)\n",
    "5. Run that specific machine again. Shrink its confidence band and move the starting point towards the average reward for that machine till the current step\n",
    "6. Repeat steps 4 and 5 for `n` iterations\n",
    "7. After some time, the highest confidence band bandit will come out on top and will keep being used again and again"
   ]
  },
  {
   "cell_type": "markdown",
   "metadata": {},
   "source": [
    "<img src=\"images/UCB_Steps.png\" width=500px>"
   ]
  },
  {
   "cell_type": "markdown",
   "metadata": {},
   "source": [
    "### Thompson Sampling"
   ]
  },
  {
   "cell_type": "markdown",
   "metadata": {},
   "source": [
    "Reference video: https://www.youtube.com/watch?v=p701cYQeqew"
   ]
  },
  {
   "cell_type": "markdown",
   "metadata": {},
   "source": [
    "#### Steps:\n",
    "\n",
    "1. Run each machine a few number of times\n",
    "2. From the values for each machine, create an expected distribution of where the actual central distribution of each machine may lie (as in image) (actual central dist. are the vertical lines. The model doesn't know this)\n",
    "3. Pull a value from each of the distributions (the `X`s in the image)\n",
    "4. Select the highest value (green) and pull the lever. This will give us a value (possibly different from the X previously selected)\n",
    "5. Now add the new pulled point to the dist. for the winner variant, and update its curve\n",
    "6. Slowly, the best machine will get more and more refined and get selected more frequently.\n"
   ]
  },
  {
   "cell_type": "markdown",
   "metadata": {},
   "source": [
    "<img src=\"images/ThompsonSampling.png\" width=500px>"
   ]
  },
  {
   "cell_type": "markdown",
   "metadata": {},
   "source": [
    "<img src=\"images/TS_Algo.png\" width=500px>"
   ]
  },
  {
   "cell_type": "markdown",
   "metadata": {},
   "source": [
    "### Comparing UCB and Thompson:"
   ]
  },
  {
   "cell_type": "markdown",
   "metadata": {},
   "source": [
    "1. Thompson Sampling is **probabilistic**, as compared to UCB which is **deterministic** (no randomness)\n",
    "2. UCB **has** to be updated every round, whereas TS can accomodate delayed feedback\n",
    "3. TS usually works better than UCB"
   ]
  },
  {
   "cell_type": "code",
   "execution_count": null,
   "metadata": {},
   "outputs": [],
   "source": []
  }
 ],
 "metadata": {
  "kernelspec": {
   "display_name": "Python 3",
   "language": "python",
   "name": "python3"
  },
  "language_info": {
   "codemirror_mode": {
    "name": "ipython",
    "version": 3
   },
   "file_extension": ".py",
   "mimetype": "text/x-python",
   "name": "python",
   "nbconvert_exporter": "python",
   "pygments_lexer": "ipython3",
   "version": "3.7.7"
  }
 },
 "nbformat": 4,
 "nbformat_minor": 4
}
