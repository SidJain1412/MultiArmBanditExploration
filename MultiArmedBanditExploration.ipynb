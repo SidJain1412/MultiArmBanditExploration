{
 "cells": [
  {
   "cell_type": "markdown",
   "metadata": {},
   "source": [
    "## Multi Armed Bandit"
   ]
  },
  {
   "cell_type": "markdown",
   "metadata": {},
   "source": [
    "Combine exploration with exploitation"
   ]
  },
  {
   "cell_type": "markdown",
   "metadata": {},
   "source": [
    "Instead of an A/B test, where you run the test, then select the best alternative and run with it, **MAB** optimizes and drives more traffic to the best alternative *while* running the test, hence reducing costs (regret)"
   ]
  },
  {
   "cell_type": "markdown",
   "metadata": {},
   "source": [
    "<img src=\"images/MAB.png\" width=500px>"
   ]
  },
  {
   "cell_type": "markdown",
   "metadata": {},
   "source": [
    "### Upper Confidence Bound"
   ]
  },
  {
   "cell_type": "markdown",
   "metadata": {},
   "source": [
    "#### Steps:\n",
    "\n",
    "Ref: https://www.youtube.com/watch?v=TIlDzLZPyhY\n",
    "\n",
    "There are `K` arms\n",
    "\n",
    "`Q(j)` is the expected payoff (between 0 and 1)\n",
    "\n",
    "1. Play each arm atleast once.\n",
    "2. Repeatedly play the arm that maximizes $Q(j) + \\sqrt{\\frac{\\frac{3}{2}\\ln n}{n_j}}$  where $n_j$ is the number of times you have played arm J and $n$ is the total no. of times you have played.\n",
    "\n"
   ]
  },
  {
   "cell_type": "markdown",
   "metadata": {},
   "source": [
    "#### Steps:\n",
    "\n",
    "1. Assume a starting point for all bandits (distribution) empirically\n",
    "2. Assume a large confidence band\n",
    "3. Try each bandit a few times (atleast once)\n",
    "4. Pick the bandit with the highest confidence band (if multiple same, pick randomly)\n",
    "5. Run that specific machine again. Shrink its confidence band and move the starting point towards the average reward for that machine till the current step\n",
    "6. Repeat steps 4 and 5 for `n` iterations\n",
    "7. After some time, the highest confidence band bandit will come out on top and will keep being used again and again"
   ]
  },
  {
   "cell_type": "markdown",
   "metadata": {},
   "source": [
    "<img src=\"images/UCB_Steps.png\" width=500px>"
   ]
  },
  {
   "cell_type": "markdown",
   "metadata": {},
   "source": [
    "### Thompson Sampling"
   ]
  },
  {
   "cell_type": "markdown",
   "metadata": {},
   "source": [
    "Reference video: https://www.youtube.com/watch?v=p701cYQeqew"
   ]
  },
  {
   "cell_type": "markdown",
   "metadata": {},
   "source": [
    "#### Steps:\n",
    "\n",
    "1. Run each machine a few number of times\n",
    "2. From the values for each machine, create an expected distribution of where the actual central distribution of each machine may lie (as in image) (actual central dist. are the vertical lines. The model doesn't know this)\n",
    "3. Pull a value from each of the distributions (the `X`s in the image)\n",
    "4. Select the highest value (green) and pull the lever. This will give us a value (possibly different from the X previously selected)\n",
    "5. Now add the new pulled point to the dist. for the winner variant, and update its curve\n",
    "6. Slowly, the best machine will get more and more refined and get selected more frequently.\n"
   ]
  },
  {
   "cell_type": "markdown",
   "metadata": {},
   "source": [
    "<img src=\"images/ThompsonSampling.png\" width=500px>"
   ]
  },
  {
   "cell_type": "markdown",
   "metadata": {},
   "source": [
    "<img src=\"images/TS_Algo.png\" width=500px>"
   ]
  },
  {
   "cell_type": "markdown",
   "metadata": {},
   "source": [
    "### Comparing UCB and Thompson:"
   ]
  },
  {
   "cell_type": "markdown",
   "metadata": {},
   "source": [
    "1. Thompson Sampling is **probabilistic**, as compared to UCB which is **deterministic** (no randomness)\n",
    "2. UCB **has** to be updated every round, whereas TS can accomodate delayed feedback\n",
    "3. TS usually works better than UCB"
   ]
  },
  {
   "cell_type": "markdown",
   "metadata": {},
   "source": [
    "# Code"
   ]
  },
  {
   "cell_type": "code",
   "execution_count": 4,
   "metadata": {},
   "outputs": [],
   "source": [
    "import IPython"
   ]
  },
  {
   "cell_type": "code",
   "execution_count": 5,
   "metadata": {},
   "outputs": [],
   "source": [
    "import pandas as pd\n",
    "import random\n",
    "from tqdm.notebook import tqdm\n",
    "import numpy as np\n",
    "import matplotlib.pyplot as plt\n",
    "import seaborn as sns\n",
    "import time"
   ]
  },
  {
   "cell_type": "code",
   "execution_count": 6,
   "metadata": {},
   "outputs": [],
   "source": [
    "sns.set(style=\"darkgrid\")"
   ]
  },
  {
   "cell_type": "markdown",
   "metadata": {},
   "source": [
    "## Creating dummy data"
   ]
  },
  {
   "cell_type": "code",
   "execution_count": 70,
   "metadata": {},
   "outputs": [],
   "source": [
    "N_USERS = 5000"
   ]
  },
  {
   "cell_type": "code",
   "execution_count": 71,
   "metadata": {},
   "outputs": [],
   "source": [
    "def random_positive(n, pos_rate):\n",
    "    '''\n",
    "    Function to generate a list of length n with 0s and 1s according to pos_rate\n",
    "    Ratio of 1s to 0s will be approximately pos_rate\n",
    "    '''\n",
    "    l = []\n",
    "    for i in range(n):\n",
    "        if(random.randint(0, 1000)/1000 < pos_rate):\n",
    "            l.append(1)\n",
    "        else:\n",
    "            l.append(0)\n",
    "    return l"
   ]
  },
  {
   "cell_type": "code",
   "execution_count": 72,
   "metadata": {},
   "outputs": [],
   "source": [
    "# Click rates for each ad\n",
    "probs = [0.12, 0.14, 0.10, 0.11]"
   ]
  },
  {
   "cell_type": "code",
   "execution_count": 74,
   "metadata": {},
   "outputs": [],
   "source": [
    "columns = ['Ad 1', 'Ad 2', 'Ad 3', 'Ad 4']\n",
    "df = pd.DataFrame()\n",
    "for col in range(len(columns)):\n",
    "    df[columns[col]] = random_positive(N_USERS, probs[col])"
   ]
  },
  {
   "cell_type": "markdown",
   "metadata": {},
   "source": [
    "### Sample data:"
   ]
  },
  {
   "cell_type": "markdown",
   "metadata": {},
   "source": [
    "Each row is a user. There are 5000 users, each of them are shown 4 variants of an ad.\n",
    "\n",
    "1 means they clicked that ad, 0 means they didn't."
   ]
  },
  {
   "cell_type": "code",
   "execution_count": 76,
   "metadata": {},
   "outputs": [
    {
     "data": {
      "text/html": [
       "<div>\n",
       "<style scoped>\n",
       "    .dataframe tbody tr th:only-of-type {\n",
       "        vertical-align: middle;\n",
       "    }\n",
       "\n",
       "    .dataframe tbody tr th {\n",
       "        vertical-align: top;\n",
       "    }\n",
       "\n",
       "    .dataframe thead th {\n",
       "        text-align: right;\n",
       "    }\n",
       "</style>\n",
       "<table border=\"1\" class=\"dataframe\">\n",
       "  <thead>\n",
       "    <tr style=\"text-align: right;\">\n",
       "      <th></th>\n",
       "      <th>Ad 1</th>\n",
       "      <th>Ad 2</th>\n",
       "      <th>Ad 3</th>\n",
       "      <th>Ad 4</th>\n",
       "    </tr>\n",
       "  </thead>\n",
       "  <tbody>\n",
       "    <tr>\n",
       "      <th>0</th>\n",
       "      <td>1</td>\n",
       "      <td>0</td>\n",
       "      <td>0</td>\n",
       "      <td>0</td>\n",
       "    </tr>\n",
       "    <tr>\n",
       "      <th>1</th>\n",
       "      <td>0</td>\n",
       "      <td>1</td>\n",
       "      <td>0</td>\n",
       "      <td>1</td>\n",
       "    </tr>\n",
       "    <tr>\n",
       "      <th>2</th>\n",
       "      <td>0</td>\n",
       "      <td>0</td>\n",
       "      <td>0</td>\n",
       "      <td>0</td>\n",
       "    </tr>\n",
       "    <tr>\n",
       "      <th>3</th>\n",
       "      <td>0</td>\n",
       "      <td>1</td>\n",
       "      <td>0</td>\n",
       "      <td>0</td>\n",
       "    </tr>\n",
       "    <tr>\n",
       "      <th>4</th>\n",
       "      <td>0</td>\n",
       "      <td>0</td>\n",
       "      <td>0</td>\n",
       "      <td>0</td>\n",
       "    </tr>\n",
       "  </tbody>\n",
       "</table>\n",
       "</div>"
      ],
      "text/plain": [
       "   Ad 1  Ad 2  Ad 3  Ad 4\n",
       "0     1     0     0     0\n",
       "1     0     1     0     1\n",
       "2     0     0     0     0\n",
       "3     0     1     0     0\n",
       "4     0     0     0     0"
      ]
     },
     "execution_count": 76,
     "metadata": {},
     "output_type": "execute_result"
    }
   ],
   "source": [
    "df.head()"
   ]
  },
  {
   "cell_type": "code",
   "execution_count": 77,
   "metadata": {},
   "outputs": [
    {
     "data": {
      "text/plain": [
       "Ad 1    577\n",
       "Ad 2    676\n",
       "Ad 3    503\n",
       "Ad 4    532\n",
       "dtype: int64"
      ]
     },
     "execution_count": 77,
     "metadata": {},
     "output_type": "execute_result"
    }
   ],
   "source": [
    "df.sum()"
   ]
  },
  {
   "cell_type": "code",
   "execution_count": 78,
   "metadata": {},
   "outputs": [],
   "source": [
    "df.to_csv(\"sample_data.csv\", index=False)"
   ]
  },
  {
   "cell_type": "code",
   "execution_count": 79,
   "metadata": {},
   "outputs": [],
   "source": [
    "# df = pd.read_csv(\"sample_data.csv\")"
   ]
  },
  {
   "cell_type": "markdown",
   "metadata": {},
   "source": [
    "Ad **2** has the best performance, this information is not known before hand\n",
    "\n",
    "Ad 1 also has good performance"
   ]
  },
  {
   "cell_type": "markdown",
   "metadata": {},
   "source": [
    "If this information was known before hand, the marketer would show variant 2 to all users, and get the highest CTR possible"
   ]
  },
  {
   "cell_type": "markdown",
   "metadata": {},
   "source": [
    "Our aim is to maximize number of clicks while exploring which variant is the best "
   ]
  },
  {
   "cell_type": "markdown",
   "metadata": {},
   "source": [
    "### Random selection"
   ]
  },
  {
   "cell_type": "markdown",
   "metadata": {},
   "source": [
    "If we select variants at random:"
   ]
  },
  {
   "cell_type": "code",
   "execution_count": 84,
   "metadata": {},
   "outputs": [],
   "source": [
    "N = df.shape[0]\n",
    "bandits = df.shape[1]\n",
    "ads_selected = []\n",
    "total_reward = 0\n",
    "\n",
    "for n in range(0, N):\n",
    "    # selecting a random number between 0 and 3 (since 4 ads)\n",
    "    ad = random.randrange(bandits)\n",
    "    ads_selected.append(ad)\n",
    "    reward = df.values[n, ad]\n",
    "    total_reward = total_reward + reward"
   ]
  },
  {
   "cell_type": "code",
   "execution_count": 85,
   "metadata": {},
   "outputs": [],
   "source": [
    "dftemp = pd.DataFrame(pd.Series(ads_selected).value_counts()).reset_index()"
   ]
  },
  {
   "cell_type": "code",
   "execution_count": 86,
   "metadata": {},
   "outputs": [
    {
     "data": {
      "image/png": "[encoded data removed]",
      "text/plain": [
       "<Figure size 432x288 with 1 Axes>"
      ]
     },
     "metadata": {},
     "output_type": "display_data"
    }
   ],
   "source": [
    "ax = sns.barplot(data=dftemp, x='index', y=0)\n",
    "ax.set(xlabel='Ads', ylabel='Number of times each ad was selected')\n",
    "ax.set_xticks(range(0, 4))\n",
    "ax.set_xticklabels(list(range(1, 5)))\n",
    "plt.show()"
   ]
  },
  {
   "cell_type": "code",
   "execution_count": 87,
   "metadata": {
    "scrolled": true
   },
   "outputs": [
    {
     "data": {
      "text/plain": [
       "531"
      ]
     },
     "execution_count": 87,
     "metadata": {},
     "output_type": "execute_result"
    }
   ],
   "source": [
    "total_reward"
   ]
  },
  {
   "cell_type": "code",
   "execution_count": 88,
   "metadata": {},
   "outputs": [],
   "source": [
    "random_reward = total_reward"
   ]
  },
  {
   "cell_type": "markdown",
   "metadata": {},
   "source": [
    "### Random selection AB test"
   ]
  },
  {
   "cell_type": "code",
   "execution_count": 89,
   "metadata": {},
   "outputs": [],
   "source": [
    "adwise_rewards = [0] * bandits\n",
    "adwise_selection = [0] * bandits"
   ]
  },
  {
   "cell_type": "markdown",
   "metadata": {},
   "source": [
    "For 10% of the experiment we select random ads"
   ]
  },
  {
   "cell_type": "code",
   "execution_count": 114,
   "metadata": {},
   "outputs": [],
   "source": [
    "N = df.shape[0]\n",
    "bandits = df.shape[1]\n",
    "ads_selected = []\n",
    "total_reward = 0\n",
    "\n",
    "adwise_rewards = [0] * bandits\n",
    "for n in range(0, round(0.1*N)):\n",
    "    ad = random.randrange(bandits)\n",
    "    ads_selected.append(ad)\n",
    "    adwise_selection[ad] += 1\n",
    "    reward = df.values[n, ad]\n",
    "    adwise_rewards[ad] += reward\n",
    "    total_reward = total_reward + reward"
   ]
  },
  {
   "cell_type": "code",
   "execution_count": 115,
   "metadata": {},
   "outputs": [
    {
     "data": {
      "text/plain": [
       "[15, 14, 12, 14]"
      ]
     },
     "execution_count": 115,
     "metadata": {},
     "output_type": "execute_result"
    }
   ],
   "source": [
    "adwise_rewards"
   ]
  },
  {
   "cell_type": "code",
   "execution_count": 116,
   "metadata": {},
   "outputs": [
    {
     "data": {
      "text/plain": [
       "[1420, 1363, 1371, 1346]"
      ]
     },
     "execution_count": 116,
     "metadata": {},
     "output_type": "execute_result"
    }
   ],
   "source": [
    "adwise_selection"
   ]
  },
  {
   "cell_type": "code",
   "execution_count": 117,
   "metadata": {},
   "outputs": [],
   "source": [
    "ad_reward_rates_yet = [i/j for i, j in zip(adwise_rewards, adwise_selection)]"
   ]
  },
  {
   "cell_type": "code",
   "execution_count": 118,
   "metadata": {
    "scrolled": true
   },
   "outputs": [
    {
     "data": {
      "text/plain": [
       "[0.01056338028169014,\n",
       " 0.010271460014673514,\n",
       " 0.0087527352297593,\n",
       " 0.010401188707280832]"
      ]
     },
     "execution_count": 118,
     "metadata": {},
     "output_type": "execute_result"
    }
   ],
   "source": [
    "ad_reward_rates_yet"
   ]
  },
  {
   "cell_type": "code",
   "execution_count": 119,
   "metadata": {},
   "outputs": [
    {
     "data": {
      "text/html": [
       "<div>\n",
       "<style scoped>\n",
       "    .dataframe tbody tr th:only-of-type {\n",
       "        vertical-align: middle;\n",
       "    }\n",
       "\n",
       "    .dataframe tbody tr th {\n",
       "        vertical-align: top;\n",
       "    }\n",
       "\n",
       "    .dataframe thead th {\n",
       "        text-align: right;\n",
       "    }\n",
       "</style>\n",
       "<table border=\"1\" class=\"dataframe\">\n",
       "  <thead>\n",
       "    <tr style=\"text-align: right;\">\n",
       "      <th></th>\n",
       "      <th>Ad</th>\n",
       "      <th>Click Rates For Ad</th>\n",
       "    </tr>\n",
       "  </thead>\n",
       "  <tbody>\n",
       "    <tr>\n",
       "      <th>0</th>\n",
       "      <td>1</td>\n",
       "      <td>1.06%</td>\n",
       "    </tr>\n",
       "    <tr>\n",
       "      <th>1</th>\n",
       "      <td>2</td>\n",
       "      <td>1.03%</td>\n",
       "    </tr>\n",
       "    <tr>\n",
       "      <th>2</th>\n",
       "      <td>3</td>\n",
       "      <td>0.88%</td>\n",
       "    </tr>\n",
       "    <tr>\n",
       "      <th>3</th>\n",
       "      <td>4</td>\n",
       "      <td>1.04%</td>\n",
       "    </tr>\n",
       "  </tbody>\n",
       "</table>\n",
       "</div>"
      ],
      "text/plain": [
       "   Ad Click Rates For Ad\n",
       "0   1              1.06%\n",
       "1   2              1.03%\n",
       "2   3              0.88%\n",
       "3   4              1.04%"
      ]
     },
     "execution_count": 119,
     "metadata": {},
     "output_type": "execute_result"
    }
   ],
   "source": [
    "# [0.132, 0.10727969348659004, 0.13135593220338984, 0.1225296442687747]\n",
    "\n",
    "click_rates = pd.DataFrame()\n",
    "click_rates['Ad'] = [1,2,3,4]\n",
    "click_rates['Click Rates For Ad'] = [x*100 for x in ad_reward_rates_yet]\n",
    "click_rates['Click Rates For Ad'] = [str(round(x, 2)) + \"%\" for x in click_rates['Click Rates For Ad']]\n",
    "click_rates = click_rates.round(3)\n",
    "click_rates"
   ]
  },
  {
   "cell_type": "code",
   "execution_count": 120,
   "metadata": {},
   "outputs": [],
   "source": [
    "best_ad_yet = ad_reward_rates_yet.index(max(ad_reward_rates_yet))"
   ]
  },
  {
   "cell_type": "code",
   "execution_count": 121,
   "metadata": {},
   "outputs": [
    {
     "data": {
      "text/plain": [
       "0"
      ]
     },
     "execution_count": 121,
     "metadata": {},
     "output_type": "execute_result"
    }
   ],
   "source": [
    "best_ad_yet"
   ]
  },
  {
   "cell_type": "markdown",
   "metadata": {},
   "source": [
    "1st ad has been selected as the best (this can change every run since random ads are selected for first 10% of the experiment)"
   ]
  },
  {
   "cell_type": "code",
   "execution_count": 122,
   "metadata": {},
   "outputs": [
    {
     "data": {
      "text/plain": [
       "55"
      ]
     },
     "execution_count": 122,
     "metadata": {},
     "output_type": "execute_result"
    }
   ],
   "source": [
    "total_reward"
   ]
  },
  {
   "cell_type": "markdown",
   "metadata": {},
   "source": [
    "**Now showing ad 1 to all the remaining users**"
   ]
  },
  {
   "cell_type": "code",
   "execution_count": 123,
   "metadata": {},
   "outputs": [],
   "source": [
    "for n in range(round(0.1*N), N):\n",
    "    ad = best_ad_yet\n",
    "    ads_selected.append(best_ad_yet)\n",
    "    reward = df.values[n, ad]\n",
    "    total_reward = total_reward + reward"
   ]
  },
  {
   "cell_type": "code",
   "execution_count": 124,
   "metadata": {},
   "outputs": [
    {
     "data": {
      "text/html": [
       "<div>\n",
       "<style scoped>\n",
       "    .dataframe tbody tr th:only-of-type {\n",
       "        vertical-align: middle;\n",
       "    }\n",
       "\n",
       "    .dataframe tbody tr th {\n",
       "        vertical-align: top;\n",
       "    }\n",
       "\n",
       "    .dataframe thead th {\n",
       "        text-align: right;\n",
       "    }\n",
       "</style>\n",
       "<table border=\"1\" class=\"dataframe\">\n",
       "  <thead>\n",
       "    <tr style=\"text-align: right;\">\n",
       "      <th></th>\n",
       "      <th>Ad</th>\n",
       "      <th>Number of Times Selected</th>\n",
       "    </tr>\n",
       "  </thead>\n",
       "  <tbody>\n",
       "    <tr>\n",
       "      <th>0</th>\n",
       "      <td>1</td>\n",
       "      <td>4638</td>\n",
       "    </tr>\n",
       "    <tr>\n",
       "      <th>2</th>\n",
       "      <td>2</td>\n",
       "      <td>122</td>\n",
       "    </tr>\n",
       "    <tr>\n",
       "      <th>1</th>\n",
       "      <td>3</td>\n",
       "      <td>131</td>\n",
       "    </tr>\n",
       "    <tr>\n",
       "      <th>3</th>\n",
       "      <td>4</td>\n",
       "      <td>109</td>\n",
       "    </tr>\n",
       "  </tbody>\n",
       "</table>\n",
       "</div>"
      ],
      "text/plain": [
       "   Ad  Number of Times Selected\n",
       "0   1                      4638\n",
       "2   2                       122\n",
       "1   3                       131\n",
       "3   4                       109"
      ]
     },
     "execution_count": 124,
     "metadata": {},
     "output_type": "execute_result"
    }
   ],
   "source": [
    "selected = pd.Series(ads_selected).value_counts()\n",
    "selected.index = selected.index + 1\n",
    "selected = selected.reset_index().sort_values(by=['index'])\n",
    "selected.rename({'index': 'Ad'}, axis=1, inplace=True)\n",
    "selected.rename({0: 'Number of Times Selected'}, axis=1)"
   ]
  },
  {
   "cell_type": "code",
   "execution_count": 125,
   "metadata": {},
   "outputs": [
    {
     "data": {
      "text/plain": [
       "574"
      ]
     },
     "execution_count": 125,
     "metadata": {},
     "output_type": "execute_result"
    }
   ],
   "source": [
    "total_reward"
   ]
  },
  {
   "cell_type": "markdown",
   "metadata": {},
   "source": [
    "### Thompson"
   ]
  },
  {
   "cell_type": "code",
   "execution_count": 159,
   "metadata": {},
   "outputs": [],
   "source": [
    "x = np.linspace(0, 1.0, 200)\n",
    "\n",
    "N = df.shape[0]\n",
    "\n",
    "d = df.shape[1]"
   ]
  },
  {
   "cell_type": "code",
   "execution_count": 160,
   "metadata": {},
   "outputs": [
    {
     "data": {
      "text/plain": [
       "Ad 1    577\n",
       "Ad 2    676\n",
       "Ad 3    503\n",
       "Ad 4    532\n",
       "dtype: int64"
      ]
     },
     "execution_count": 160,
     "metadata": {},
     "output_type": "execute_result"
    }
   ],
   "source": [
    "df.sum()"
   ]
  },
  {
   "cell_type": "code",
   "execution_count": 161,
   "metadata": {},
   "outputs": [],
   "source": [
    "from scipy.stats import beta"
   ]
  },
  {
   "cell_type": "code",
   "execution_count": 162,
   "metadata": {},
   "outputs": [],
   "source": [
    "# %%timeit\n",
    "\n",
    "# random.betavariate(1000000000, 1000000000)"
   ]
  },
  {
   "cell_type": "code",
   "execution_count": 163,
   "metadata": {},
   "outputs": [
    {
     "data": {
      "text/plain": [
       "5000"
      ]
     },
     "execution_count": 163,
     "metadata": {},
     "output_type": "execute_result"
    }
   ],
   "source": [
    "N"
   ]
  },
  {
   "cell_type": "code",
   "execution_count": 164,
   "metadata": {},
   "outputs": [],
   "source": [
    "# Increase PLOTTING_AT_EVERY_N to update plot less frequently\n",
    "PLOTTING_AT_EVERY_N = 200"
   ]
  },
  {
   "cell_type": "code",
   "execution_count": 165,
   "metadata": {
    "scrolled": false
   },
   "outputs": [
    {
     "data": {
      "image/png": "[encoded data removed]",
      "text/plain": [
       "<Figure size 864x576 with 1 Axes>"
      ]
     },
     "metadata": {},
     "output_type": "display_data"
    },
    {
     "name": "stdout",
     "output_type": "stream",
     "text": [
      "\n"
     ]
    },
    {
     "data": {
      "image/png": "[encoded data removed]",
      "text/plain": [
       "<Figure size 864x576 with 1 Axes>"
      ]
     },
     "metadata": {},
     "output_type": "display_data"
    }
   ],
   "source": [
    "SHOW_PLOT = True\n",
    "\n",
    "ads_selected = []\n",
    "number_of_wins = [0] * d\n",
    "number_of_losses = [0] * d\n",
    "total_reward = 0\n",
    "# for n in range(0, N):\n",
    "fig, ax = plt.subplots(figsize=(12, 8))\n",
    "\n",
    "for n in tqdm(range(0, N)):\n",
    "    if(SHOW_PLOT):\n",
    "        if(n % PLOTTING_AT_EVERY_N == 0):\n",
    "            ax.cla()\n",
    "            print(n)\n",
    "            print()\n",
    "            print()\n",
    "            for i in range(0, d):\n",
    "                sns.lineplot(x=x, y=beta.pdf(\n",
    "                    x, number_of_wins[i] + 1, number_of_losses[i] + 1), label=str(i+1), ax=ax,\n",
    "                            )\n",
    "                ax.set(ylim=(0, 100))\n",
    "                ax.set(xlabel=\"Iteration \" + str(n))\n",
    "            IPython.display.clear_output(wait=True)\n",
    "            IPython.display.display(plt.gcf())\n",
    "    #         IPython.display.display()\n",
    "#             time.sleep(0.01)\n",
    "\n",
    "    ad = 0\n",
    "    max_random = 0\n",
    "    for i in range(0, d):\n",
    "        random_beta = random.betavariate(\n",
    "            number_of_wins[i] + 1, number_of_losses[i] + 1)\n",
    "        if random_beta > max_random:\n",
    "            max_random = random_beta\n",
    "            ad = i\n",
    "    ads_selected.append(ad)\n",
    "#     reward = df.values[n, ad]\n",
    "    reward = df.values[n, ad]\n",
    "    if reward == 1:\n",
    "        number_of_wins[ad] = number_of_wins[ad] + 1\n",
    "    else:\n",
    "        number_of_losses[ad] = number_of_losses[ad] + 1\n",
    "    total_reward = total_reward + reward"
   ]
  },
  {
   "cell_type": "code",
   "execution_count": 166,
   "metadata": {},
   "outputs": [
    {
     "data": {
      "image/png": "[encoded data removed]",
      "text/plain": [
       "<Figure size 432x288 with 1 Axes>"
      ]
     },
     "metadata": {},
     "output_type": "display_data"
    }
   ],
   "source": [
    "ax = sns.histplot(ads_selected)\n",
    "ax.set(xlabel='Ads', ylabel='Number of times each ad was selected')\n",
    "ax.set_xticks(range(0, 4))\n",
    "ax.set_xticklabels(list(range(1, 11)))\n",
    "plt.show()"
   ]
  },
  {
   "cell_type": "code",
   "execution_count": 167,
   "metadata": {},
   "outputs": [
    {
     "data": {
      "text/html": [
       "<div>\n",
       "<style scoped>\n",
       "    .dataframe tbody tr th:only-of-type {\n",
       "        vertical-align: middle;\n",
       "    }\n",
       "\n",
       "    .dataframe tbody tr th {\n",
       "        vertical-align: top;\n",
       "    }\n",
       "\n",
       "    .dataframe thead th {\n",
       "        text-align: right;\n",
       "    }\n",
       "</style>\n",
       "<table border=\"1\" class=\"dataframe\">\n",
       "  <thead>\n",
       "    <tr style=\"text-align: right;\">\n",
       "      <th></th>\n",
       "      <th>Ad</th>\n",
       "      <th>Number of Times Selected</th>\n",
       "    </tr>\n",
       "  </thead>\n",
       "  <tbody>\n",
       "    <tr>\n",
       "      <th>1</th>\n",
       "      <td>1</td>\n",
       "      <td>718</td>\n",
       "    </tr>\n",
       "    <tr>\n",
       "      <th>0</th>\n",
       "      <td>2</td>\n",
       "      <td>3603</td>\n",
       "    </tr>\n",
       "    <tr>\n",
       "      <th>3</th>\n",
       "      <td>3</td>\n",
       "      <td>275</td>\n",
       "    </tr>\n",
       "    <tr>\n",
       "      <th>2</th>\n",
       "      <td>4</td>\n",
       "      <td>404</td>\n",
       "    </tr>\n",
       "  </tbody>\n",
       "</table>\n",
       "</div>"
      ],
      "text/plain": [
       "   Ad  Number of Times Selected\n",
       "1   1                       718\n",
       "0   2                      3603\n",
       "3   3                       275\n",
       "2   4                       404"
      ]
     },
     "execution_count": 167,
     "metadata": {},
     "output_type": "execute_result"
    }
   ],
   "source": [
    "selected = pd.Series(ads_selected).value_counts()\n",
    "selected.index = selected.index + 1\n",
    "selected = selected.reset_index().sort_values(by=['index'])\n",
    "selected.rename({'index': 'Ad'}, axis=1, inplace=True)\n",
    "selected.rename({0: 'Number of Times Selected'}, axis=1)"
   ]
  },
  {
   "cell_type": "code",
   "execution_count": 168,
   "metadata": {},
   "outputs": [
    {
     "data": {
      "text/plain": [
       "659"
      ]
     },
     "execution_count": 168,
     "metadata": {},
     "output_type": "execute_result"
    }
   ],
   "source": [
    "total_reward"
   ]
  },
  {
   "cell_type": "code",
   "execution_count": 169,
   "metadata": {},
   "outputs": [
    {
     "data": {
      "text/plain": [
       "97.48520710059172"
      ]
     },
     "execution_count": 169,
     "metadata": {},
     "output_type": "execute_result"
    }
   ],
   "source": [
    "total_reward*100 / max(df.sum())"
   ]
  },
  {
   "cell_type": "code",
   "execution_count": 170,
   "metadata": {},
   "outputs": [
    {
     "data": {
      "text/plain": [
       "2.5147928994082775"
      ]
     },
     "execution_count": 170,
     "metadata": {},
     "output_type": "execute_result"
    }
   ],
   "source": [
    "100 - total_reward*100 / max(df.sum())"
   ]
  },
  {
   "cell_type": "code",
   "execution_count": 171,
   "metadata": {},
   "outputs": [
    {
     "data": {
      "text/plain": [
       "24.105461393596993"
      ]
     },
     "execution_count": 171,
     "metadata": {},
     "output_type": "execute_result"
    }
   ],
   "source": [
    "(total_reward / random_reward - 1) * 100"
   ]
  },
  {
   "cell_type": "code",
   "execution_count": 172,
   "metadata": {},
   "outputs": [
    {
     "data": {
      "text/plain": [
       "659"
      ]
     },
     "execution_count": 172,
     "metadata": {},
     "output_type": "execute_result"
    }
   ],
   "source": [
    "total_reward"
   ]
  },
  {
   "cell_type": "markdown",
   "metadata": {},
   "source": [
    "# UCB"
   ]
  },
  {
   "cell_type": "markdown",
   "metadata": {},
   "source": [
    "https://www.youtube.com/watch?v=TIlDzLZPyhY"
   ]
  },
  {
   "cell_type": "code",
   "execution_count": 143,
   "metadata": {},
   "outputs": [
    {
     "data": {
      "text/html": [
       "<div>\n",
       "<style scoped>\n",
       "    .dataframe tbody tr th:only-of-type {\n",
       "        vertical-align: middle;\n",
       "    }\n",
       "\n",
       "    .dataframe tbody tr th {\n",
       "        vertical-align: top;\n",
       "    }\n",
       "\n",
       "    .dataframe thead th {\n",
       "        text-align: right;\n",
       "    }\n",
       "</style>\n",
       "<table border=\"1\" class=\"dataframe\">\n",
       "  <thead>\n",
       "    <tr style=\"text-align: right;\">\n",
       "      <th></th>\n",
       "      <th>Ad 1</th>\n",
       "      <th>Ad 2</th>\n",
       "      <th>Ad 3</th>\n",
       "      <th>Ad 4</th>\n",
       "    </tr>\n",
       "  </thead>\n",
       "  <tbody>\n",
       "    <tr>\n",
       "      <th>0</th>\n",
       "      <td>1</td>\n",
       "      <td>0</td>\n",
       "      <td>0</td>\n",
       "      <td>0</td>\n",
       "    </tr>\n",
       "    <tr>\n",
       "      <th>1</th>\n",
       "      <td>0</td>\n",
       "      <td>1</td>\n",
       "      <td>0</td>\n",
       "      <td>1</td>\n",
       "    </tr>\n",
       "  </tbody>\n",
       "</table>\n",
       "</div>"
      ],
      "text/plain": [
       "   Ad 1  Ad 2  Ad 3  Ad 4\n",
       "0     1     0     0     0\n",
       "1     0     1     0     1"
      ]
     },
     "execution_count": 143,
     "metadata": {},
     "output_type": "execute_result"
    }
   ],
   "source": [
    "df.head(2)"
   ]
  },
  {
   "cell_type": "code",
   "execution_count": 144,
   "metadata": {},
   "outputs": [
    {
     "data": {
      "text/plain": [
       "Ad 1    577\n",
       "Ad 2    676\n",
       "Ad 3    503\n",
       "Ad 4    532\n",
       "dtype: int64"
      ]
     },
     "execution_count": 144,
     "metadata": {},
     "output_type": "execute_result"
    }
   ],
   "source": [
    "df.sum()"
   ]
  },
  {
   "cell_type": "code",
   "execution_count": 145,
   "metadata": {},
   "outputs": [],
   "source": [
    "N = df.shape[0]\n",
    "\n",
    "d = df.shape[1]"
   ]
  },
  {
   "cell_type": "code",
   "execution_count": 146,
   "metadata": {},
   "outputs": [],
   "source": [
    "import math"
   ]
  },
  {
   "cell_type": "code",
   "execution_count": 147,
   "metadata": {},
   "outputs": [],
   "source": [
    "def calculate_upper_bound(wins, num_selections, n):\n",
    "    average_reward = wins / num_selections\n",
    "    delta_i = math.sqrt(3/2 * math.log(n + 1) / num_selections)\n",
    "    upper_bound = average_reward + delta_i\n",
    "    return upper_bound"
   ]
  },
  {
   "cell_type": "code",
   "execution_count": 155,
   "metadata": {},
   "outputs": [],
   "source": [
    "# Increase PLOTTING_AT_EVERY_N to update plot less frequently\n",
    "PLOTTING_AT_EVERY_N = 500"
   ]
  },
  {
   "cell_type": "code",
   "execution_count": 156,
   "metadata": {},
   "outputs": [
    {
     "data": {
      "image/png": "[encoded data removed]",
      "text/plain": [
       "<Figure size 864x576 with 1 Axes>"
      ]
     },
     "metadata": {},
     "output_type": "display_data"
    },
    {
     "name": "stdout",
     "output_type": "stream",
     "text": [
      "\n"
     ]
    },
    {
     "data": {
      "image/png": "[encoded data removed]",
      "text/plain": [
       "<Figure size 864x576 with 1 Axes>"
      ]
     },
     "metadata": {},
     "output_type": "display_data"
    }
   ],
   "source": [
    "SHOW_PLOT = True\n",
    "\n",
    "ads_selected = []\n",
    "number_of_selections_of_machine = [0] * d\n",
    "number_of_wins = [0] * d\n",
    "total_reward = 0\n",
    "\n",
    "fig, ax = plt.subplots(figsize=(12, 8))\n",
    "\n",
    "overall_min = []\n",
    "overall_max = []\n",
    "\n",
    "for n in tqdm(range(0, N)):\n",
    "    if(SHOW_PLOT):\n",
    "        if(n % PLOTTING_AT_EVERY_N == 0):\n",
    "\n",
    "            current_average_rewards = []\n",
    "            current_bottom_rewards = []\n",
    "\n",
    "            ax.cla()\n",
    "            for i in range(0, d):\n",
    "                if(number_of_selections_of_machine[i] > 0):\n",
    "                    average_reward_temp = number_of_wins[i] / number_of_selections_of_machine[i]\n",
    "                    delta_i_temp = math.sqrt(\n",
    "                        3/2 * math.log(n + 1) / number_of_selections_of_machine[i])\n",
    "                    upper_bound_temp = average_reward_temp + delta_i_temp\n",
    "                    current_bottom_rewards.append(average_reward_temp-delta_i_temp)\n",
    "                else:\n",
    "                    upper_bound_temp = 0\n",
    "                    current_bottom_rewards.append(0)\n",
    "                current_average_rewards.append(upper_bound_temp)\n",
    "\n",
    "            overall_max.append(max(current_average_rewards))\n",
    "            overall_min.append(min(current_bottom_rewards))\n",
    "\n",
    "            for reward in range(len(current_average_rewards)):\n",
    "                plt.bar(reward, height=current_average_rewards[reward] - current_bottom_rewards[reward],\n",
    "        bottom=current_bottom_rewards[reward])\n",
    "            plt.axhline(y=max(current_average_rewards), color='g', linestyle='-')\n",
    "            ax.set(ylim=(-3, 3))\n",
    "            winning_ad = current_average_rewards.index(max(current_average_rewards))\n",
    "            ax.set(xlabel=\"Iteration \" + str(n) + \". Winner: Ad \" + str(winning_ad + 1))\n",
    "            IPython.display.clear_output(wait=True)\n",
    "            IPython.display.display(plt.gcf())\n",
    "            time.sleep(0.15)\n",
    "\n",
    "    ad = 0\n",
    "    max_upper_bound = 0\n",
    "    \n",
    "    upper_bound_values = []\n",
    "    for i in range(0, d):\n",
    "        if(number_of_selections_of_machine[i] > 0):\n",
    "            average_reward = number_of_wins[i] / number_of_selections_of_machine[i]\n",
    "            delta_i = math.sqrt(3/2 * math.log(n + 1) /\n",
    "                                number_of_selections_of_machine[i])\n",
    "            upper_bound = average_reward + delta_i\n",
    "        else:\n",
    "            # Setting upper bound to be a very large number\n",
    "            upper_bound = 1e20\n",
    "        upper_bound_values.append(upper_bound)\n",
    "\n",
    "    ad = upper_bound_values.index(max(upper_bound_values))\n",
    "    ads_selected.append(ad)\n",
    "    number_of_selections_of_machine[ad] = number_of_selections_of_machine[ad] + 1\n",
    "\n",
    "    reward = df.values[n, ad]\n",
    "    if reward == 1:\n",
    "        number_of_wins[ad] = number_of_wins[ad] + 1\n",
    "    total_reward = total_reward + reward"
   ]
  },
  {
   "cell_type": "code",
   "execution_count": 157,
   "metadata": {
    "scrolled": true
   },
   "outputs": [
    {
     "data": {
      "text/html": [
       "<div>\n",
       "<style scoped>\n",
       "    .dataframe tbody tr th:only-of-type {\n",
       "        vertical-align: middle;\n",
       "    }\n",
       "\n",
       "    .dataframe tbody tr th {\n",
       "        vertical-align: top;\n",
       "    }\n",
       "\n",
       "    .dataframe thead th {\n",
       "        text-align: right;\n",
       "    }\n",
       "</style>\n",
       "<table border=\"1\" class=\"dataframe\">\n",
       "  <thead>\n",
       "    <tr style=\"text-align: right;\">\n",
       "      <th></th>\n",
       "      <th>Ad</th>\n",
       "      <th>Number of Times Selected</th>\n",
       "    </tr>\n",
       "  </thead>\n",
       "  <tbody>\n",
       "    <tr>\n",
       "      <th>3</th>\n",
       "      <td>1</td>\n",
       "      <td>912</td>\n",
       "    </tr>\n",
       "    <tr>\n",
       "      <th>0</th>\n",
       "      <td>2</td>\n",
       "      <td>1928</td>\n",
       "    </tr>\n",
       "    <tr>\n",
       "      <th>2</th>\n",
       "      <td>3</td>\n",
       "      <td>973</td>\n",
       "    </tr>\n",
       "    <tr>\n",
       "      <th>1</th>\n",
       "      <td>4</td>\n",
       "      <td>1187</td>\n",
       "    </tr>\n",
       "  </tbody>\n",
       "</table>\n",
       "</div>"
      ],
      "text/plain": [
       "   Ad  Number of Times Selected\n",
       "3   1                       912\n",
       "0   2                      1928\n",
       "2   3                       973\n",
       "1   4                      1187"
      ]
     },
     "execution_count": 157,
     "metadata": {},
     "output_type": "execute_result"
    }
   ],
   "source": [
    "selected = pd.Series(ads_selected).value_counts()\n",
    "selected.index = selected.index + 1\n",
    "selected = selected.reset_index().sort_values(by=['index'])\n",
    "selected.rename({'index': 'Ad'}, axis=1, inplace=True)\n",
    "selected.rename({0: 'Number of Times Selected'}, axis=1)"
   ]
  },
  {
   "cell_type": "code",
   "execution_count": 158,
   "metadata": {},
   "outputs": [
    {
     "data": {
      "text/plain": [
       "615"
      ]
     },
     "execution_count": 158,
     "metadata": {},
     "output_type": "execute_result"
    }
   ],
   "source": [
    "total_reward"
   ]
  },
  {
   "cell_type": "code",
   "execution_count": null,
   "metadata": {},
   "outputs": [],
   "source": []
  }
 ],
 "metadata": {
  "kernelspec": {
   "display_name": "Python 3",
   "language": "python",
   "name": "python3"
  },
  "language_info": {
   "codemirror_mode": {
    "name": "ipython",
    "version": 3
   },
   "file_extension": ".py",
   "mimetype": "text/x-python",
   "name": "python",
   "nbconvert_exporter": "python",
   "pygments_lexer": "ipython3",
   "version": "3.7.7"
  }
 },
 "nbformat": 4,
 "nbformat_minor": 4
}
